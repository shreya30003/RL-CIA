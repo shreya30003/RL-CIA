{
 "cells": [
  {
   "cell_type": "markdown",
   "metadata": {},
   "source": [
    "### Recommendation System - K arm Bandit Problem"
   ]
  },
  {
   "cell_type": "code",
   "execution_count": 1,
   "metadata": {},
   "outputs": [],
   "source": [
    "import numpy as np\n",
    "from abc import ABC, abstractmethod\n",
    "from sklearn.tree import DecisionTreeClassifier  \n",
    "from sklearn.base import clone                  \n",
    "import matplotlib.pyplot as plt                \n",
    "from sklearn.metrics.pairwise import rbf_kernel   "
   ]
  },
  {
   "cell_type": "code",
   "execution_count": 2,
   "metadata": {},
   "outputs": [],
   "source": [
    "class MAB(ABC):\n",
    "    def __init__(self, n_arms): # n_arms: number of arms\n",
    "        self.n_arms = n_arms\n",
    "        \n",
    "    @abstractmethod\n",
    "    def play(self, context): \n",
    "        self.context = context\n",
    "\n",
    "    \n",
    "    @abstractmethod\n",
    "    def update(self, arm, reward, context): \n",
    "        self.arm = arm\n",
    "        self.reward = reward\n",
    "        self.context = context\n"
   ]
  },
  {
   "cell_type": "code",
   "execution_count": 3,
   "metadata": {},
   "outputs": [],
   "source": [
    "def break_tie(_range):\n",
    "    indices = np.argwhere(_range == np.max(_range))\n",
    "    index = np.random.randint(0,len(indices))\n",
    "    return indices[index][0]"
   ]
  },
  {
   "cell_type": "markdown",
   "metadata": {},
   "source": [
    "`Dataset`\n",
    "- Column 1: The arm played by a uniformly-random policy out of 10 arms (news articles)\n",
    "- Column 2: The reward received from the arm played (1 if the user clicked 0 otherwise)\n",
    "- Columns 3-102: The 100-dim flattened context; 10 features per arm (incorporating the content of the article and its match with the visiting user), first the features for arm 1, then arm 2, etc. up to arm 10."
   ]
  },
  {
   "cell_type": "code",
   "execution_count": 4,
   "metadata": {},
   "outputs": [
    {
     "name": "stdout",
     "output_type": "stream",
     "text": [
      "(10000, 102)\n",
      "[ 1.  0.  5.  0.  0. 37.  6.  0.  0.  0.  0. 25.  0.  0.  7.  1.  0.  0.\n",
      "  0. 13.  2.  0.  0.  8.  0.  0.  0. 15. 29.  1.  1.  0.  0.  0.  0.  1.\n",
      "  0.  0.  1.  0.  0.  0.  0.  0.  3.  0.  0.  0.  0.  0.  0.  0.  0.  0.\n",
      "  0.  4.  0.  0.  0.  0.  0.  0.  0.  5.  2.  7.  0.  0.  0.  0. 11.  0.\n",
      "  5.  0.  0.  0.  0.  0.  0.  3.  2.  0.  0.  0.  0.  1.  2. 47.  0.  0.\n",
      "  1.  0.  0.  0.  1.  3.  0.  0. 17. 30.  4.  0.]\n"
     ]
    }
   ],
   "source": [
    "data = np.loadtxt(\"dataset.txt\")\n",
    "print(data.shape)\n",
    "print(data[0])"
   ]
  },
  {
   "cell_type": "code",
   "execution_count": 5,
   "metadata": {},
   "outputs": [
    {
     "name": "stdout",
     "output_type": "stream",
     "text": [
      "<class 'numpy.ndarray'> <class 'numpy.ndarray'> <class 'numpy.ndarray'>\n"
     ]
    }
   ],
   "source": [
    "arms, rewards, contexts = data[:,0], data[:,1], data[:,2:] # arm: 1st column, reward: 2nd column, context: 3rd to last column\n",
    "print(type(arms), type(rewards), type(contexts))"
   ]
  },
  {
   "cell_type": "code",
   "execution_count": 6,
   "metadata": {},
   "outputs": [],
   "source": [
    "arms = arms.astype(int)\n",
    "rewards = rewards.astype(float)\n",
    "contexts = contexts.astype(float)"
   ]
  },
  {
   "cell_type": "code",
   "execution_count": 7,
   "metadata": {},
   "outputs": [
    {
     "data": {
      "text/plain": [
       "(1,\n",
       " 0.0,\n",
       " array([ 5.,  0.,  0., 37.,  6.,  0.,  0.,  0.,  0., 25.,  0.,  0.,  7.,\n",
       "         1.,  0.,  0.,  0., 13.,  2.,  0.,  0.,  8.,  0.,  0.,  0., 15.,\n",
       "        29.,  1.,  1.,  0.,  0.,  0.,  0.,  1.,  0.,  0.,  1.,  0.,  0.,\n",
       "         0.,  0.,  0.,  3.,  0.,  0.,  0.,  0.,  0.,  0.,  0.,  0.,  0.,\n",
       "         0.,  4.,  0.,  0.,  0.,  0.,  0.,  0.,  0.,  5.,  2.,  7.,  0.,\n",
       "         0.,  0.,  0., 11.,  0.,  5.,  0.,  0.,  0.,  0.,  0.,  0.,  3.,\n",
       "         2.,  0.,  0.,  0.,  0.,  1.,  2., 47.,  0.,  0.,  1.,  0.,  0.,\n",
       "         0.,  1.,  3.,  0.,  0., 17., 30.,  4.,  0.]))"
      ]
     },
     "execution_count": 7,
     "metadata": {},
     "output_type": "execute_result"
    }
   ],
   "source": [
    "arms[0], rewards[0], contexts[0]"
   ]
  },
  {
   "cell_type": "code",
   "execution_count": 8,
   "metadata": {},
   "outputs": [
    {
     "name": "stdout",
     "output_type": "stream",
     "text": [
      "Unique arms: [0 1 2 3 4 5 6 7 8 9]\n",
      "Unique rewards: [0. 1.]\n"
     ]
    }
   ],
   "source": [
    "print('Unique arms:', np.unique(arms))\n",
    "print('Unique rewards:', np.unique(rewards))"
   ]
  },
  {
   "cell_type": "code",
   "execution_count": 9,
   "metadata": {},
   "outputs": [
    {
     "name": "stdout",
     "output_type": "stream",
     "text": [
      "(10000, 10, 10)\n"
     ]
    }
   ],
   "source": [
    "n_arms = len(np.unique(arms))\n",
    "n_events = len(contexts)\n",
    "n_dims = int(len(contexts[0])/n_arms)\n",
    "\n",
    "contexts = contexts.reshape(n_events, n_arms, n_dims)\n",
    "print(contexts.shape)"
   ]
  },
  {
   "cell_type": "code",
   "execution_count": 10,
   "metadata": {},
   "outputs": [],
   "source": [
    "def offlineEvaluate(mab, arms, rewards, contexts, n_rounds=None):\n",
    "    n_round = 0\n",
    "    R = []          \n",
    "    H = []          \n",
    "    \n",
    "    for i in range(n_events):\n",
    "        if n_round == n_rounds:\n",
    "            break\n",
    "        arm = mab.play(contexts[i])\n",
    "        if arm == arms[i]:                 \n",
    "            R.append(rewards[i])           \n",
    "            H.append([arms[i], rewards[i], contexts[i]])     \n",
    "            mab.update(arms[i], rewards[i], contexts[i])     \n",
    "            n_round += 1\n",
    "\n",
    "    out = np.array(R)\n",
    "        \n",
    "    return out "
   ]
  },
  {
   "cell_type": "code",
   "execution_count": 11,
   "metadata": {},
   "outputs": [],
   "source": [
    "class EpsGreedy(MAB):\n",
    "    def __init__(self, n_arms, epsilon, Q0=np.inf):\n",
    "        super().__init__(n_arms)\n",
    "        self.epsilon = epsilon\n",
    "        self.q = np.full(n_arms, Q0)\n",
    "        self.rewards = np.zeros(n_arms)\n",
    "        self.clicks = np.zeros(n_arms)\n",
    "    \n",
    "    def play(self, context=None):\n",
    "        super().play(context)\n",
    "        if np.random.random_sample() <= self.epsilon:\n",
    "            arm = np.random.randint(0, self.n_arms)\n",
    "        else:\n",
    "            arm = break_tie(self.q)\n",
    "        return arm\n",
    "    \n",
    "    def update(self, arm, reward, context=None):\n",
    "        super().update(arm, reward, context)\n",
    "        self.clicks[arm] += 1\n",
    "        self.rewards[arm] += self.reward\n",
    "        self.q[arm] = self.rewards[arm] / self.clicks[arm]"
   ]
  },
  {
   "cell_type": "code",
   "execution_count": 12,
   "metadata": {},
   "outputs": [
    {
     "name": "stdout",
     "output_type": "stream",
     "text": [
      "8\n"
     ]
    }
   ],
   "source": [
    "mab = EpsGreedy(10, 0.05) \n",
    "print(mab.play(contexts[0]))"
   ]
  },
  {
   "cell_type": "code",
   "execution_count": 13,
   "metadata": {},
   "outputs": [
    {
     "name": "stdout",
     "output_type": "stream",
     "text": [
      "<class 'numpy.ndarray'> (10000,)\n",
      "10000\n"
     ]
    }
   ],
   "source": [
    "print(type(arms), arms.shape)\n",
    "print(n_events)"
   ]
  },
  {
   "cell_type": "code",
   "execution_count": 14,
   "metadata": {},
   "outputs": [
    {
     "name": "stdout",
     "output_type": "stream",
     "text": [
      "EpsGreedy average reward 0.26625\n"
     ]
    }
   ],
   "source": [
    "results_EpsGreedy = offlineEvaluate(mab, arms, rewards, contexts, 800)\n",
    "print('EpsGreedy average reward', np.mean(results_EpsGreedy))"
   ]
  }
 ],
 "metadata": {
  "kernelspec": {
   "display_name": "Python 3",
   "language": "python",
   "name": "python3"
  },
  "language_info": {
   "codemirror_mode": {
    "name": "ipython",
    "version": 3
   },
   "file_extension": ".py",
   "mimetype": "text/x-python",
   "name": "python",
   "nbconvert_exporter": "python",
   "pygments_lexer": "ipython3",
   "version": "3.11.4"
  }
 },
 "nbformat": 4,
 "nbformat_minor": 2
}
