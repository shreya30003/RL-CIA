{
 "cells": [
  {
   "cell_type": "markdown",
   "metadata": {},
   "source": [
    "### Grid Problem - MDP"
   ]
  },
  {
   "cell_type": "code",
   "execution_count": 19,
   "metadata": {},
   "outputs": [],
   "source": [
    "import numpy as np\n",
    "import random"
   ]
  },
  {
   "cell_type": "code",
   "execution_count": 20,
   "metadata": {},
   "outputs": [],
   "source": [
    "# Grid Initialization\n",
    "grid_size = 100\n",
    "grid = np.zeros((grid_size, grid_size))"
   ]
  },
  {
   "cell_type": "code",
   "execution_count": 21,
   "metadata": {},
   "outputs": [
    {
     "name": "stdout",
     "output_type": "stream",
     "text": [
      "[[0. 0. 0. ... 0. 0. 0.]\n",
      " [0. 0. 0. ... 0. 0. 0.]\n",
      " [0. 0. 0. ... 0. 0. 0.]\n",
      " ...\n",
      " [0. 0. 0. ... 0. 0. 0.]\n",
      " [0. 0. 0. ... 0. 0. 0.]\n",
      " [0. 0. 0. ... 0. 0. 0.]]\n"
     ]
    }
   ],
   "source": [
    "print(grid)"
   ]
  },
  {
   "cell_type": "code",
   "execution_count": 22,
   "metadata": {},
   "outputs": [],
   "source": [
    "# Obsticle Initialization - Randomly place obstacles in the grid\n",
    "num_obstacles = int(grid_size * grid_size * 0.2)  \n",
    "for _ in range(num_obstacles):\n",
    "    x, y = random.randint(0, grid_size-1), random.randint(0, grid_size-1)\n",
    "    grid[x, y] = -1 "
   ]
  },
  {
   "cell_type": "code",
   "execution_count": 23,
   "metadata": {},
   "outputs": [
    {
     "name": "stdout",
     "output_type": "stream",
     "text": [
      "[[ 0.  0.  0. ...  0. -1.  0.]\n",
      " [ 0.  0.  0. ...  0.  0.  0.]\n",
      " [-1.  0.  0. ...  0. -1. -1.]\n",
      " ...\n",
      " [-1. -1.  0. ... -1.  0. -1.]\n",
      " [ 0. -1.  0. ...  0.  0.  0.]\n",
      " [ 0.  0. -1. ...  0. -1.  0.]] (100, 100)\n"
     ]
    }
   ],
   "source": [
    "print(grid, grid.shape)"
   ]
  },
  {
   "cell_type": "code",
   "execution_count": 24,
   "metadata": {},
   "outputs": [],
   "source": [
    "# Start and Goal Initialization\n",
    "start = (random.randint(0, grid_size-1), random.randint(0, grid_size-1))\n",
    "end = (random.randint(0, grid_size-1), random.randint(0, grid_size-1))\n",
    "while grid[start] == -1:\n",
    "    start = (random.randint(0, grid_size-1), random.randint(0, grid_size-1))\n",
    "while grid[end] == -1:\n",
    "    end = (random.randint(0, grid_size-1), random.randint(0, grid_size-1))"
   ]
  },
  {
   "cell_type": "code",
   "execution_count": 25,
   "metadata": {},
   "outputs": [],
   "source": [
    "# MDP components\n",
    "actions = ['up', 'down', 'left', 'right']\n",
    "action_effects = {\n",
    "    'up': (-1, 0),\n",
    "    'down': (1, 0),\n",
    "    'left': (0, -1),\n",
    "    'right': (0, 1)\n",
    "}\n",
    "gamma = 0.9  # Discount factor\n",
    "alpha = 0.1  # Learning rate\n",
    "epsilon = 0.1  # Exploration rate"
   ]
  },
  {
   "cell_type": "code",
   "execution_count": 26,
   "metadata": {},
   "outputs": [],
   "source": [
    "# Q-table\n",
    "Q = np.zeros((grid_size, grid_size, len(actions)))"
   ]
  },
  {
   "cell_type": "code",
   "execution_count": 27,
   "metadata": {},
   "outputs": [],
   "source": [
    "def choose_action(state):\n",
    "    if random.uniform(0, 1) < epsilon:\n",
    "        return random.choice(actions)\n",
    "    else:\n",
    "        return actions[np.argmax(Q[state[0], state[1]])]"
   ]
  },
  {
   "cell_type": "code",
   "execution_count": 28,
   "metadata": {},
   "outputs": [],
   "source": [
    "def take_action(state, action):\n",
    "    effect = action_effects[action]\n",
    "    next_state = (state[0] + effect[0], state[1] + effect[1])\n",
    "    if 0 <= next_state[0] < grid_size and 0 <= next_state[1] < grid_size and grid[next_state] != -1:\n",
    "        return next_state\n",
    "    else:\n",
    "        return state"
   ]
  },
  {
   "cell_type": "code",
   "execution_count": 29,
   "metadata": {},
   "outputs": [],
   "source": [
    "def get_reward(state):\n",
    "    if state == end:\n",
    "        return 100\n",
    "    elif grid[state] == -1:\n",
    "        return -100  \n",
    "    else:\n",
    "        return -1  "
   ]
  },
  {
   "cell_type": "code",
   "execution_count": 30,
   "metadata": {},
   "outputs": [],
   "source": [
    "# Training the agent\n",
    "num_episodes = 1000\n",
    "for episode in range(num_episodes):\n",
    "    state = start\n",
    "    while state != end:\n",
    "        action = choose_action(state)\n",
    "        next_state = take_action(state, action)\n",
    "        reward = get_reward(next_state)\n",
    "        Q[state[0], state[1], actions.index(action)] = Q[state[0], state[1], actions.index(action)] + alpha * (reward + gamma * np.max(Q[next_state[0], next_state[1]]) - Q[state[0], state[1], actions.index(action)])\n",
    "        state = next_state"
   ]
  },
  {
   "cell_type": "code",
   "execution_count": 31,
   "metadata": {},
   "outputs": [],
   "source": [
    "# Policy evaluation\n",
    "policy = np.zeros((grid_size, grid_size), dtype=str)\n",
    "for i in range(grid_size):\n",
    "    for j in range(grid_size):\n",
    "        policy[i, j] = actions[np.argmax(Q[i, j])]"
   ]
  },
  {
   "cell_type": "code",
   "execution_count": 32,
   "metadata": {},
   "outputs": [
    {
     "name": "stdout",
     "output_type": "stream",
     "text": [
      "[['d' 'd' 'l' ... 'r' 'u' 'r']\n",
      " ['l' 'd' 'r' ... 'r' 'r' 'r']\n",
      " ['u' 'd' 'u' ... 'u' 'u' 'u']\n",
      " ...\n",
      " ['u' 'u' 'l' ... 'u' 'r' 'u']\n",
      " ['u' 'u' 'd' ... 'u' 'd' 'u']\n",
      " ['u' 'u' 'u' ... 'r' 'u' 'r']]\n"
     ]
    }
   ],
   "source": [
    "print(policy)"
   ]
  }
 ],
 "metadata": {
  "kernelspec": {
   "display_name": "Python 3",
   "language": "python",
   "name": "python3"
  },
  "language_info": {
   "codemirror_mode": {
    "name": "ipython",
    "version": 3
   },
   "file_extension": ".py",
   "mimetype": "text/x-python",
   "name": "python",
   "nbconvert_exporter": "python",
   "pygments_lexer": "ipython3",
   "version": "3.11.4"
  }
 },
 "nbformat": 4,
 "nbformat_minor": 2
}
